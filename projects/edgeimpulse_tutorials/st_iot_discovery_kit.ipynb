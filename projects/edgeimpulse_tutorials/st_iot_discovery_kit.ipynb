{
 "cells": [
  {
   "cell_type": "markdown",
   "metadata": {},
   "source": [
    "# Getting Started  \n",
    "https://docs.edgeimpulse.com/docs"
   ]
  },
  {
   "cell_type": "markdown",
   "metadata": {},
   "source": [
    "## Sign up\n",
    "https://studio.edgeimpulse.com/signup\n",
    "\n",
    "## Sign in  \n",
    "https://studio.edgeimpulse.com/login"
   ]
  },
  {
   "cell_type": "markdown",
   "metadata": {},
   "source": [
    "# ST B-L475E-IOT01A  \n",
    "https://docs.edgeimpulse.com/docs/unboxing-the-st-b-l475e-iot01a"
   ]
  },
  {
   "cell_type": "markdown",
   "metadata": {},
   "source": [
    "[ST Link](https://cdn.edgeimpulse.com/drivers/st-link.zip) - drivers for the development board. Run dpinst_amd64 on 64-bits Windows, or dpinst_x86 on 32-bits Windows."
   ]
  },
  {
   "cell_type": "markdown",
   "metadata": {},
   "source": [
    "Install Edge Impulse [CLI](https://docs.edgeimpulse.com/docs/cli-installation) :"
   ]
  },
  {
   "cell_type": "code",
   "execution_count": 1,
   "metadata": {},
   "outputs": [
    {
     "name": "stdout",
     "output_type": "stream",
     "text": [
      "D:\\McuML\\miniconda3\\envs\\McuML\\edge-impulse-run-impulse -> D:\\McuML\\miniconda3\\envs\\McuML\\node_modules\\edge-impulse-cli\\build\\cli\\run-impulse.js\n",
      "D:\\McuML\\miniconda3\\envs\\McuML\\edge-impulse-data-forwarder -> D:\\McuML\\miniconda3\\envs\\McuML\\node_modules\\edge-impulse-cli\\build\\cli\\data-forwarder.js\n",
      "D:\\McuML\\miniconda3\\envs\\McuML\\edge-impulse-daemon -> D:\\McuML\\miniconda3\\envs\\McuML\\node_modules\\edge-impulse-cli\\build\\cli\\daemon.js\n",
      "D:\\McuML\\miniconda3\\envs\\McuML\\edge-impulse-uploader -> D:\\McuML\\miniconda3\\envs\\McuML\\node_modules\\edge-impulse-cli\\build\\cli\\uploader.js\n",
      "D:\\McuML\\miniconda3\\envs\\McuML\\eta-flash-tool -> D:\\McuML\\miniconda3\\envs\\McuML\\node_modules\\edge-impulse-cli\\build\\cli\\eta-flash-tool\\flashtool.js\n",
      "\n",
      "> @serialport/bindings@8.0.8 install D:\\McuML\\miniconda3\\envs\\McuML\\node_modules\\edge-impulse-cli\\node_modules\\@serialport\\bindings\n",
      "> prebuild-install --tag-prefix @serialport/bindings@ || node-gyp rebuild\n",
      "\n",
      "\n",
      "> serialport@8.0.8 postinstall D:\\McuML\\miniconda3\\envs\\McuML\\node_modules\\edge-impulse-cli\\node_modules\\serialport\n",
      "> node thank-you.js\n",
      "\n",
      "\u001b[96m\u001b[1mThank you for using serialport!\u001b[96m\u001b[1m\n",
      "\u001b[0m\u001b[96mIf you rely on this package, please consider supporting our open collective:\u001b[22m\u001b[39m\n",
      "> \u001b[94mhttps://opencollective.com/serialport/donate\u001b[0m\n",
      "\n",
      "\n",
      "+ edge-impulse-cli@1.8.3\n",
      "added 261 packages from 212 contributors in 15.186s\n"
     ]
    },
    {
     "name": "stderr",
     "output_type": "stream",
     "text": [
      "npm WARN deprecated request@2.88.2: request has been deprecated, see https://github.com/request/request/issues/3142\n",
      "npm WARN deprecated request-promise@4.2.6: request-promise has been deprecated because it extends the now deprecated request package, see https://github.com/request/request/issues/3142\n",
      "npm WARN deprecated har-validator@5.1.5: this library is no longer supported\n",
      "npm WARN ws@7.3.1 requires a peer of bufferutil@^4.0.1 but none is installed. You must install peer dependencies yourself.\n",
      "npm WARN ws@7.3.1 requires a peer of utf-8-validate@^5.0.2 but none is installed. You must install peer dependencies yourself.\n",
      "npm WARN tsargs@1.4.0 requires a peer of typescript@^3.1.6 but none is installed. You must install peer dependencies yourself.\n",
      "\n"
     ]
    }
   ],
   "source": [
    "!npm install -g edge-impulse-cli"
   ]
  },
  {
   "cell_type": "markdown",
   "metadata": {},
   "source": [
    "Opening a command prompt :"
   ]
  },
  {
   "cell_type": "code",
   "execution_count": 2,
   "metadata": {},
   "outputs": [],
   "source": [
    "!start cmd.exe"
   ]
  },
  {
   "cell_type": "markdown",
   "metadata": {},
   "source": [
    "## Building a continuous motion recognition system"
   ]
  },
  {
   "cell_type": "markdown",
   "metadata": {},
   "source": [
    "### Prebuilt dataset  \n",
    "https://docs.edgeimpulse.com/docs/continuous-gestures"
   ]
  },
  {
   "cell_type": "markdown",
   "metadata": {},
   "source": [
    "## Recognizing sounds from audio"
   ]
  },
  {
   "cell_type": "markdown",
   "metadata": {},
   "source": [
    "### Prebuilt dataset  \n",
    "https://docs.edgeimpulse.com/docs/running-faucet"
   ]
  }
 ],
 "metadata": {
  "kernelspec": {
   "display_name": "Python 3",
   "language": "python",
   "name": "python3"
  },
  "language_info": {
   "codemirror_mode": {
    "name": "ipython",
    "version": 3
   },
   "file_extension": ".py",
   "mimetype": "text/x-python",
   "name": "python",
   "nbconvert_exporter": "python",
   "pygments_lexer": "ipython3",
   "version": "3.7.7"
  }
 },
 "nbformat": 4,
 "nbformat_minor": 4
}
