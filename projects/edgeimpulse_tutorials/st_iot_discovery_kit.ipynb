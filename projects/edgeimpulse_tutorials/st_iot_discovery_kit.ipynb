{
 "cells": [
  {
   "cell_type": "markdown",
   "metadata": {},
   "source": [
    "# Getting Started  \n",
    "https://docs.edgeimpulse.com/docs"
   ]
  },
  {
   "cell_type": "markdown",
   "metadata": {},
   "source": [
    "## Sign up\n",
    "https://studio.edgeimpulse.com/signup\n",
    "\n",
    "## Sign in  \n",
    "https://studio.edgeimpulse.com/login"
   ]
  },
  {
   "cell_type": "markdown",
   "metadata": {},
   "source": [
    "# ST B-L475E-IOT01A  \n",
    "https://docs.edgeimpulse.com/docs/unboxing-the-st-b-l475e-iot01a"
   ]
  },
  {
   "cell_type": "markdown",
   "metadata": {},
   "source": [
    "[ST Link](https://cdn.edgeimpulse.com/drivers/st-link.zip) - drivers for the development board. Run dpinst_amd64 on 64-bits Windows, or dpinst_x86 on 32-bits Windows."
   ]
  },
  {
   "cell_type": "markdown",
   "metadata": {},
   "source": [
    "Install Edge Impulse [CLI](https://docs.edgeimpulse.com/docs/cli-installation) :"
   ]
  },
  {
   "cell_type": "code",
   "execution_count": 1,
   "metadata": {},
   "outputs": [
    {
     "name": "stdout",
     "output_type": "stream",
     "text": [
      "\n",
      "(McuML) D:\\McuML>cd D:\\McuML\\projects\\edgeimpulse_tutorials \n",
      "\n",
      "(McuML) D:\\McuML\\projects\\edgeimpulse_tutorials>npm install -g edge-impulse-cli \n",
      "\n",
      "added 264 packages, and audited 264 packages in 12s\n",
      "\n",
      "11 packages are looking for funding\n",
      "  run `npm fund` for details\n",
      "\n",
      "2 low severity vulnerabilities\n",
      "\n",
      "Some issues need review, and may require choosing\n",
      "a different dependency.\n",
      "\n",
      "Run `npm audit` for details.\n"
     ]
    },
    {
     "name": "stderr",
     "output_type": "stream",
     "text": [
      "npm WARN deprecated har-validator@5.1.5: this library is no longer supported\n",
      "npm WARN deprecated request-promise@4.2.6: request-promise has been deprecated because it extends the now deprecated request package, see https://github.com/request/request/issues/3142\n",
      "npm WARN deprecated request@2.88.2: request has been deprecated, see https://github.com/request/request/issues/3142\n"
     ]
    }
   ],
   "source": [
    "!install-edge-impulse-cli.bat"
   ]
  },
  {
   "cell_type": "markdown",
   "metadata": {},
   "source": [
    "Opening a command prompt :"
   ]
  },
  {
   "cell_type": "code",
   "execution_count": 2,
   "metadata": {},
   "outputs": [],
   "source": [
    "!start edge-impulse-cli.bat"
   ]
  },
  {
   "cell_type": "markdown",
   "metadata": {},
   "source": [
    "## Building a continuous motion recognition system"
   ]
  },
  {
   "cell_type": "markdown",
   "metadata": {},
   "source": [
    "### Prebuilt dataset  \n",
    "https://docs.edgeimpulse.com/docs/continuous-gestures"
   ]
  },
  {
   "cell_type": "markdown",
   "metadata": {},
   "source": [
    "## Recognizing sounds from audio"
   ]
  },
  {
   "cell_type": "markdown",
   "metadata": {},
   "source": [
    "### Prebuilt dataset  \n",
    "https://docs.edgeimpulse.com/docs/running-faucet"
   ]
  }
 ],
 "metadata": {
  "kernelspec": {
   "display_name": "Python 3",
   "language": "python",
   "name": "python3"
  },
  "language_info": {
   "codemirror_mode": {
    "name": "ipython",
    "version": 3
   },
   "file_extension": ".py",
   "mimetype": "text/x-python",
   "name": "python",
   "nbconvert_exporter": "python",
   "pygments_lexer": "ipython3",
   "version": "3.7.9"
  }
 },
 "nbformat": 4,
 "nbformat_minor": 4
}
