{
 "cells": [
  {
   "cell_type": "markdown",
   "metadata": {},
   "source": [
    "# On-Device AI Co., Ltd.\n",
    "\n",
    "Web   : https://on-device-ai.com/  \n",
    "Email : yilintung@on-device-ai.com"
   ]
  },
  {
   "cell_type": "code",
   "execution_count": 1,
   "metadata": {},
   "outputs": [],
   "source": [
    "import os\n",
    "import numpy as np\n",
    "import pandas as pd\n",
    "import matplotlib.pyplot as plt\n",
    "\n",
    "from sklearn.model_selection import train_test_split\n",
    "from sklearn.metrics import accuracy_score\n",
    "\n",
    "import tensorflow as tf\n",
    "from tensorflow import keras\n",
    "from tensorflow.keras import layers"
   ]
  },
  {
   "cell_type": "code",
   "execution_count": 2,
   "metadata": {},
   "outputs": [],
   "source": [
    "def show_train_history(train_history, train, validation):\n",
    "    plt.plot(train_history.history[train])\n",
    "    plt.plot(train_history.history[validation])\n",
    "    plt.title('Train History')\n",
    "    plt.ylabel('train')\n",
    "    plt.xlabel('Epoch')\n",
    "    plt.legend(['train', 'validation'], loc='upper left')\n",
    "    plt.show()\n",
    "\n",
    "def show_confusion_matrix(confusion_matrix):\n",
    "    print('\\n' + str(confusion_matrix))\n",
    "    FP = confusion_matrix.sum(axis=0) - np.diag(confusion_matrix)  \n",
    "    FN = confusion_matrix.sum(axis=1) - np.diag(confusion_matrix)\n",
    "    TP = np.diag(confusion_matrix)\n",
    "    TN = confusion_matrix.values.sum() - (FP + FN + TP)\n",
    "\n",
    "    # Sensitivity, hit rate, recall, or true positive rate\n",
    "    TPR = TP/(TP+FN)\n",
    "    # Specificity or true negative rate\n",
    "    TNR = TN/(TN+FP) \n",
    "    # Precision or positive predictive value\n",
    "    PPV = TP/(TP+FP)\n",
    "    # Overall accuracy\n",
    "    ACC = (TP+TN)/(TP+FP+FN+TN)\n",
    "\n",
    "    print('acc  = ' + str(round(ACC[0]*100.0,2)) + '% , ' + \\\n",
    "          str(round(ACC[1]*100.0,2)) + '% , ' + \\\n",
    "          str(round(ACC[2]*100.0,2)) + '% , ' + \\\n",
    "          str(round(ACC[3]*100.0,2)) + '% , ' + \\\n",
    "          str(round(ACC[4]*100.0,2)) + '% ')\n",
    "    print('ppv  = ' + str(round(PPV[0]*100.0,2)) + '% , ' + \\\n",
    "          str(round(PPV[1]*100.0,2)) + '% , ' + \\\n",
    "          str(round(PPV[2]*100.0,2)) + '% , ' + \\\n",
    "          str(round(PPV[3]*100.0,2)) + '% , ' + \\\n",
    "          str(round(PPV[4]*100.0,2)) + '% ')\n",
    "    print('sen  = ' + str(round(TPR[0]*100.0,2)) + '% , ' + \\\n",
    "          str(round(TPR[1]*100.0,2)) + '% , ' + \\\n",
    "          str(round(TPR[2]*100.0,2)) + '% , ' + \\\n",
    "          str(round(TPR[3]*100.0,2)) + '% , ' + \\\n",
    "          str(round(TPR[4]*100.0,2)) + '% ')\n",
    "    print('spec = ' + str(round(TNR[0]*100.0,2)) + '% , ' + \\\n",
    "          str(round(TNR[1]*100.0,2)) + '% , ' + \\\n",
    "          str(round(TNR[2]*100.0,2)) + '% , ' + \\\n",
    "          str(round(TNR[3]*100.0,2)) + '% , ' + \\\n",
    "          str(round(TNR[4]*100.0,2)) + '% ')"
   ]
  },
  {
   "cell_type": "code",
   "execution_count": 3,
   "metadata": {},
   "outputs": [],
   "source": [
    "# MIT-BIH Arrhythmia Database\n",
    "# https://physionet.org/content/mitdb/1.0.0/\n",
    "mitdbs = [100,101,102,103,104,105,106,107,108,109,111,112,113,114,115,116,117,118,119,121,122,123,124,200,201,202,203,205,207,208,209,210,212,213,214,215,217,219,220,221,222,223,228,230,231,232,233,234]"
   ]
  },
  {
   "cell_type": "code",
   "execution_count": 4,
   "metadata": {},
   "outputs": [
    {
     "name": "stdout",
     "output_type": "stream",
     "text": [
      "./beats/102.npy file is not exist\n",
      "./beats/104.npy file is not exist\n"
     ]
    }
   ],
   "source": [
    "X_list = list() \n",
    "y_list = list()\n",
    "for db in mitdbs:\n",
    "    if os.path.isfile('./beats/'+ str(db) + '.npy') : \n",
    "        db_dict = np.load('./beats/'+ str(db) + '.npy',allow_pickle = True).item()\n",
    "        beats   = db_dict['beats']\n",
    "    \n",
    "        for beat in beats :\n",
    "            # X is ECG signal\n",
    "            X_list.append(beat[1])\n",
    "            # y is categorie\n",
    "            y_list.append(beat[0])\n",
    "    else :\n",
    "        print('./beats/'+ str(db) + '.npy' + ' file is not exist')\n",
    "        \n",
    "X = np.array(X_list)\n",
    "y = np.array(y_list)"
   ]
  },
  {
   "cell_type": "code",
   "execution_count": 5,
   "metadata": {},
   "outputs": [
    {
     "name": "stdout",
     "output_type": "stream",
     "text": [
      "Type N number of beats = 90078\n",
      "Type S number of beats = 2704\n",
      "Type V number of beats = 6271\n",
      "Type F number of beats = 786\n",
      "Type Q number of beats = 3582\n",
      "Total  number of beats = 103421\n"
     ]
    }
   ],
   "source": [
    "print('Type N number of beats = ' + str(len(np.where(y==0)[0])))\n",
    "print('Type S number of beats = ' + str(len(np.where(y==1)[0])))\n",
    "print('Type V number of beats = ' + str(len(np.where(y==2)[0])))\n",
    "print('Type F number of beats = ' + str(len(np.where(y==3)[0])))\n",
    "print('Type Q number of beats = ' + str(len(np.where(y==4)[0])))\n",
    "print('Total  number of beats = ' + str(len(y)))"
   ]
  },
  {
   "cell_type": "code",
   "execution_count": 6,
   "metadata": {},
   "outputs": [
    {
     "name": "stdout",
     "output_type": "stream",
     "text": [
      "{0: 0.12901635064445327, 1: 0.9738544396205799, 2: 0.9393643457324915, 3: 0.9923999961323136, 4: 0.9653648678701617}\n"
     ]
    }
   ],
   "source": [
    "weight0 = 1.0 - (len(np.where(y==0)[0]) / len(y))\n",
    "weight1 = 1.0 - (len(np.where(y==1)[0]) / len(y))\n",
    "weight2 = 1.0 - (len(np.where(y==2)[0]) / len(y))\n",
    "weight3 = 1.0 - (len(np.where(y==3)[0]) / len(y))\n",
    "weight4 = 1.0 - (len(np.where(y==4)[0]) / len(y))\n",
    "class_weight = {0: weight0 , 1: weight1 , 2: weight2 ,3 : weight3 , 4 : weight4}\n",
    "print(class_weight)"
   ]
  },
  {
   "cell_type": "code",
   "execution_count": 7,
   "metadata": {},
   "outputs": [],
   "source": [
    "# Create train and test dataset\n",
    "X_train, X_test, y_train, y_test = train_test_split(X, y, test_size=0.1)\n",
    "\n",
    "num_classes = 5\n",
    "\n",
    "y_Train=keras.utils.to_categorical(y_train,num_classes)\n",
    "y_Train=y_Train.reshape(len(y_Train),num_classes)\n",
    "\n",
    "y_Test=keras.utils.to_categorical(y_test,num_classes)\n",
    "y_Test=y_Test.reshape(len(y_Test),num_classes)"
   ]
  },
  {
   "cell_type": "code",
   "execution_count": 8,
   "metadata": {},
   "outputs": [
    {
     "name": "stdout",
     "output_type": "stream",
     "text": [
      "Model: \"model\"\n",
      "_________________________________________________________________\n",
      "Layer (type)                 Output Shape              Param #   \n",
      "=================================================================\n",
      "input_1 (InputLayer)         [(None, 260)]             0         \n",
      "_________________________________________________________________\n",
      "reshape (Reshape)            (None, 260, 1)            0         \n",
      "_________________________________________________________________\n",
      "conv1d (Conv1D)              (None, 258, 5)            20        \n",
      "_________________________________________________________________\n",
      "re_lu (ReLU)                 (None, 258, 5)            0         \n",
      "_________________________________________________________________\n",
      "max_pooling1d (MaxPooling1D) (None, 129, 5)            0         \n",
      "_________________________________________________________________\n",
      "conv1d_1 (Conv1D)            (None, 126, 10)           210       \n",
      "_________________________________________________________________\n",
      "re_lu_1 (ReLU)               (None, 126, 10)           0         \n",
      "_________________________________________________________________\n",
      "max_pooling1d_1 (MaxPooling1 (None, 63, 10)            0         \n",
      "_________________________________________________________________\n",
      "conv1d_2 (Conv1D)            (None, 60, 20)            820       \n",
      "_________________________________________________________________\n",
      "re_lu_2 (ReLU)               (None, 60, 20)            0         \n",
      "_________________________________________________________________\n",
      "max_pooling1d_2 (MaxPooling1 (None, 30, 20)            0         \n",
      "_________________________________________________________________\n",
      "flatten (Flatten)            (None, 600)               0         \n",
      "_________________________________________________________________\n",
      "dense (Dense)                (None, 30)                18030     \n",
      "_________________________________________________________________\n",
      "re_lu_3 (ReLU)               (None, 30)                0         \n",
      "_________________________________________________________________\n",
      "dense_1 (Dense)              (None, 20)                620       \n",
      "_________________________________________________________________\n",
      "re_lu_4 (ReLU)               (None, 20)                0         \n",
      "_________________________________________________________________\n",
      "dense_2 (Dense)              (None, 5)                 105       \n",
      "=================================================================\n",
      "Total params: 19,805\n",
      "Trainable params: 19,805\n",
      "Non-trainable params: 0\n",
      "_________________________________________________________________\n"
     ]
    }
   ],
   "source": [
    "# 1D Convolutional Neural Network\n",
    "# Ref. : A deep convolutional neural network model to classify heartbeats ( https://www.sciencedirect.com/science/article/pii/S0010482517302810?via%3Dihub )\n",
    "inputs  = layers.Input(shape=(260,))\n",
    "reshape = layers.Reshape((260,1))(inputs)\n",
    "conv1   = layers.Conv1D(5,  3, activation='linear')(reshape)\n",
    "conv1   = layers.ReLU()(conv1)\n",
    "conv1   = layers.MaxPooling1D(2,2)(conv1)\n",
    "conv2   = layers.Conv1D(10, 4, activation='linear')(conv1)\n",
    "conv2   = layers.ReLU()(conv2)\n",
    "conv2   = layers.MaxPooling1D(2,2)(conv2)\n",
    "conv3   = layers.Conv1D(20, 4, activation='linear')(conv2)\n",
    "conv3   = layers.ReLU()(conv3)\n",
    "conv3   = layers.MaxPooling1D(2,2)(conv3)\n",
    "flat    = layers.Flatten()(conv3)\n",
    "dense1  = layers.Dense(30, activation='linear')(flat)\n",
    "dense1  = layers.ReLU()(dense1)\n",
    "dense2  = layers.Dense(20, activation='linear')(dense1)\n",
    "dense2  = layers.ReLU()(dense2)\n",
    "dense3  = layers.Dense(5, activation='softmax')(dense2)\n",
    "model   = keras.Model(inputs=inputs, outputs=dense3)\n",
    "\n",
    "model.summary()"
   ]
  },
  {
   "cell_type": "code",
   "execution_count": 9,
   "metadata": {},
   "outputs": [],
   "source": [
    "# Configures the model for training\n",
    "model.compile(keras.optimizers.Adam(),loss=keras.losses.CategoricalCrossentropy(),metrics=[keras.metrics.CategoricalAccuracy()])"
   ]
  },
  {
   "cell_type": "code",
   "execution_count": 10,
   "metadata": {},
   "outputs": [],
   "source": [
    "# Stop training when a monitored quantity has stopped improving\n",
    "earlyStopping=keras.callbacks.EarlyStopping(monitor= 'val_loss',patience=3)"
   ]
  },
  {
   "cell_type": "code",
   "execution_count": 11,
   "metadata": {},
   "outputs": [
    {
     "name": "stdout",
     "output_type": "stream",
     "text": [
      "Train on 65154 samples, validate on 27924 samples\n",
      "Epoch 1/20\n",
      "65154/65154 [==============================] - 24s 370us/sample - loss: 0.0825 - categorical_accuracy: 0.9323 - val_loss: 0.0529 - val_categorical_accuracy: 0.9367\n",
      "Epoch 2/20\n",
      "65154/65154 [==============================] - 23s 351us/sample - loss: 0.0443 - categorical_accuracy: 0.9614 - val_loss: 0.0416 - val_categorical_accuracy: 0.9709\n",
      "Epoch 3/20\n",
      "65154/65154 [==============================] - 23s 351us/sample - loss: 0.0358 - categorical_accuracy: 0.9693 - val_loss: 0.0368 - val_categorical_accuracy: 0.9586\n",
      "Epoch 4/20\n",
      "65154/65154 [==============================] - 22s 339us/sample - loss: 0.0298 - categorical_accuracy: 0.9733 - val_loss: 0.0317 - val_categorical_accuracy: 0.9780\n",
      "Epoch 5/20\n",
      "65154/65154 [==============================] - 23s 347us/sample - loss: 0.0257 - categorical_accuracy: 0.9772 - val_loss: 0.0299 - val_categorical_accuracy: 0.9829\n",
      "Epoch 6/20\n",
      "65154/65154 [==============================] - 24s 371us/sample - loss: 0.0228 - categorical_accuracy: 0.9793 - val_loss: 0.0277 - val_categorical_accuracy: 0.9772\n",
      "Epoch 7/20\n",
      "65154/65154 [==============================] - 25s 376us/sample - loss: 0.0211 - categorical_accuracy: 0.9805 - val_loss: 0.0302 - val_categorical_accuracy: 0.9723\n",
      "Epoch 8/20\n",
      "65154/65154 [==============================] - 24s 369us/sample - loss: 0.0192 - categorical_accuracy: 0.9811 - val_loss: 0.0283 - val_categorical_accuracy: 0.9806\n",
      "Epoch 9/20\n",
      "65154/65154 [==============================] - 24s 371us/sample - loss: 0.0168 - categorical_accuracy: 0.9831 - val_loss: 0.0408 - val_categorical_accuracy: 0.9282\n"
     ]
    }
   ],
   "source": [
    "# Trains the model for a fixed number of epochs (iterations on a dataset)\n",
    "train_history = model.fit(X_train, y_Train, batch_size=32, epochs=20, validation_split=0.3, callbacks=[earlyStopping],class_weight = class_weight)"
   ]
  },
  {
   "cell_type": "code",
   "execution_count": 12,
   "metadata": {},
   "outputs": [
    {
     "data": {
      "image/png": "[encoded data removed]",
      "text/plain": [
       "<Figure size 432x288 with 1 Axes>"
      ]
     },
     "metadata": {
      "needs_background": "light"
     },
     "output_type": "display_data"
    }
   ],
   "source": [
    "show_train_history(train_history, 'categorical_accuracy', 'val_categorical_accuracy')"
   ]
  },
  {
   "cell_type": "code",
   "execution_count": 13,
   "metadata": {},
   "outputs": [
    {
     "data": {
      "image/png": "[encoded data removed]",
      "text/plain": [
       "<Figure size 432x288 with 1 Axes>"
      ]
     },
     "metadata": {
      "needs_background": "light"
     },
     "output_type": "display_data"
    }
   ],
   "source": [
    "show_train_history(train_history, 'loss', 'val_loss')"
   ]
  },
  {
   "cell_type": "code",
   "execution_count": 14,
   "metadata": {},
   "outputs": [
    {
     "name": "stdout",
     "output_type": "stream",
     "text": [
      "Model evaluate score = [0.19836527831225012, 0.9286474]\n"
     ]
    }
   ],
   "source": [
    "# Returns the loss value & metrics values for the model in test mode\n",
    "score = model.evaluate(X_test, y_Test, batch_size=32 , verbose=0)\n",
    "print('Model evaluate score = ' + str(score))"
   ]
  },
  {
   "cell_type": "code",
   "execution_count": 15,
   "metadata": {},
   "outputs": [],
   "source": [
    "# Generates output predictions for the input samples\n",
    "prediction = model.predict(X_test,batch_size=32)"
   ]
  },
  {
   "cell_type": "code",
   "execution_count": 16,
   "metadata": {},
   "outputs": [
    {
     "name": "stdout",
     "output_type": "stream",
     "text": [
      "\n",
      "predict     0    1    2   3    4\n",
      "label                           \n",
      "0        8267  544   67  78    6\n",
      "1          12  268    3   2    0\n",
      "2           5    4  644   4    0\n",
      "3           2    0   11  69    0\n",
      "4           0    0    0   0  357\n",
      "acc  = 93.1% , 94.54% , 99.09% , 99.06% , 99.94% \n",
      "ppv  = 99.77% , 32.84% , 88.83% , 45.1% , 98.35% \n",
      "sen  = 92.25% , 94.04% , 98.02% , 84.15% , 100.0% \n",
      "spec = 98.62% , 94.55% , 99.16% , 99.18% , 99.94% \n"
     ]
    }
   ],
   "source": [
    "prediction = prediction.argmax(axis=-1)\n",
    "confusion_matrix = pd.crosstab(y_test, prediction, rownames=['label'], colnames=['predict'])\n",
    "show_confusion_matrix(confusion_matrix)"
   ]
  },
  {
   "cell_type": "code",
   "execution_count": 17,
   "metadata": {},
   "outputs": [
    {
     "name": "stdout",
     "output_type": "stream",
     "text": [
      "WARNING:tensorflow:From C:\\Projects\\McuML\\miniconda3\\envs\\McuML\\lib\\site-packages\\tensorflow_core\\python\\ops\\resource_variable_ops.py:1781: calling BaseResourceVariable.__init__ (from tensorflow.python.ops.resource_variable_ops) with constraint is deprecated and will be removed in a future version.\n",
      "Instructions for updating:\n",
      "If using Keras pass *_constraint arguments to layers.\n",
      "INFO:tensorflow:Assets written to: classify_heartbeats_cnn\\assets\n"
     ]
    }
   ],
   "source": [
    "# Save model\n",
    "# Defaults to 'tf' (Tensorflow SavedModel) in TF 2.X\n",
    "model.save('classify_heartbeats_cnn')"
   ]
  },
  {
   "cell_type": "markdown",
   "metadata": {},
   "source": [
    "# Convert to TensorFlow Lite"
   ]
  },
  {
   "cell_type": "code",
   "execution_count": 18,
   "metadata": {},
   "outputs": [],
   "source": [
    "# Convert the model to the TensorFlow Lite format without quantization\n",
    "converter = tf.lite.TFLiteConverter.from_keras_model(model)\n",
    "tflite_model = converter.convert()"
   ]
  },
  {
   "cell_type": "code",
   "execution_count": 19,
   "metadata": {},
   "outputs": [
    {
     "data": {
      "text/plain": [
       "84284"
      ]
     },
     "execution_count": 19,
     "metadata": {},
     "output_type": "execute_result"
    }
   ],
   "source": [
    "# Save the model to disk\n",
    "open(\"classify_heartbeats_cnn.tflite\", \"wb\").write(tflite_model)"
   ]
  },
  {
   "cell_type": "code",
   "execution_count": 20,
   "metadata": {},
   "outputs": [],
   "source": [
    "# Convert the model to the TensorFlow Lite format with quantization\n",
    "converter = tf.lite.TFLiteConverter.from_keras_model(model)\n",
    "converter.optimizations = [tf.lite.Optimize.OPTIMIZE_FOR_SIZE]\n",
    "train_sub_dataset = X_train[0:100]\n",
    "def representative_data_gen():\n",
    "  for input_value in train_sub_dataset:\n",
    "    yield [input_value.reshape(1,260)]\n",
    "converter.representative_dataset = representative_data_gen\n",
    "tflite_model = converter.convert()"
   ]
  },
  {
   "cell_type": "code",
   "execution_count": 21,
   "metadata": {},
   "outputs": [
    {
     "data": {
      "text/plain": [
       "27368"
      ]
     },
     "execution_count": 21,
     "metadata": {},
     "output_type": "execute_result"
    }
   ],
   "source": [
    "# Save the model to disk\n",
    "open(\"classify_heartbeats_cnn_quantized.tflite\", \"wb\").write(tflite_model)"
   ]
  },
  {
   "cell_type": "markdown",
   "metadata": {},
   "source": [
    "# Test the converted models"
   ]
  },
  {
   "cell_type": "code",
   "execution_count": 22,
   "metadata": {},
   "outputs": [],
   "source": [
    "# Instantiate an interpreter for each model\n",
    "heartbeat_model = tf.lite.Interpreter('classify_heartbeats_cnn.tflite')\n",
    "heartbeat_model_quantized = tf.lite.Interpreter('classify_heartbeats_cnn_quantized.tflite')"
   ]
  },
  {
   "cell_type": "code",
   "execution_count": 23,
   "metadata": {},
   "outputs": [],
   "source": [
    "# Allocate memory for each model\n",
    "heartbeat_model.allocate_tensors()\n",
    "heartbeat_model_quantized.allocate_tensors()"
   ]
  },
  {
   "cell_type": "code",
   "execution_count": 24,
   "metadata": {},
   "outputs": [],
   "source": [
    "# Get input and output tensors.\n",
    "heartbeat_model_input  = heartbeat_model.get_input_details()\n",
    "heartbeat_model_output = heartbeat_model.get_output_details()\n",
    "\n",
    "heartbeat_model_quantized_input  = heartbeat_model_quantized.get_input_details()\n",
    "heartbeat_model_quantized_output = heartbeat_model_quantized.get_output_details()"
   ]
  },
  {
   "cell_type": "code",
   "execution_count": 25,
   "metadata": {},
   "outputs": [],
   "source": [
    "# Create arrays to store the results\n",
    "heartbeat_model_predictions = np.empty(len(X_test),dtype=np.int64)\n",
    "heartbeat_model_quantized_predictions = np.empty(len(X_test),dtype=np.int64)"
   ]
  },
  {
   "cell_type": "code",
   "execution_count": 26,
   "metadata": {},
   "outputs": [],
   "source": [
    "# Run each model's interpreter for each value and store the results in arrays\n",
    "for i in range(len(X_test)):\n",
    "  heartbeat_model.set_tensor(heartbeat_model_input[0]['index'], X_test[i].reshape(1,260))\n",
    "  heartbeat_model.invoke()\n",
    "  heartbeat_model_predictions[i] = heartbeat_model.get_tensor(heartbeat_model_output[0]['index']).argmax(-1)[0]\n",
    "\n",
    "  heartbeat_model_quantized.set_tensor(heartbeat_model_quantized_input[0]['index'], X_test[i].reshape(1,260))\n",
    "  heartbeat_model_quantized.invoke()\n",
    "  heartbeat_model_quantized_predictions[i] = heartbeat_model_quantized.get_tensor(heartbeat_model_quantized_output[0]['index']).argmax(-1)[0] "
   ]
  },
  {
   "cell_type": "code",
   "execution_count": 27,
   "metadata": {},
   "outputs": [
    {
     "name": "stdout",
     "output_type": "stream",
     "text": [
      "heartbeat_model accuracy score is 0.9286473943730059\n",
      "heartbeat_model_quantized accuracy score is 0.9293241806052402\n"
     ]
    }
   ],
   "source": [
    "print(\"heartbeat_model accuracy score is \" + str(accuracy_score(y_test,heartbeat_model_predictions)))\n",
    "print(\"heartbeat_model_quantized accuracy score is \" + str(accuracy_score(y_test,heartbeat_model_quantized_predictions)))"
   ]
  },
  {
   "cell_type": "markdown",
   "metadata": {},
   "source": [
    "# Write to C file"
   ]
  },
  {
   "cell_type": "code",
   "execution_count": 28,
   "metadata": {},
   "outputs": [],
   "source": [
    "!xxd -i classify_heartbeats_cnn.tflite > classify_heartbeats_cnn.cc"
   ]
  },
  {
   "cell_type": "code",
   "execution_count": 29,
   "metadata": {},
   "outputs": [],
   "source": [
    "!xxd -i classify_heartbeats_cnn_quantized.tflite > classify_heartbeats_cnn_quantized.cc"
   ]
  },
  {
   "cell_type": "markdown",
   "metadata": {},
   "source": [
    "# Generate the test signals for MCU"
   ]
  },
  {
   "cell_type": "code",
   "execution_count": 30,
   "metadata": {},
   "outputs": [],
   "source": [
    "start_index  = 0\n",
    "end_index    = len(y_Test) - 1\n",
    "for type in range(0,5) :\n",
    "    signal_found = False\n",
    "    while(signal_found is False) :\n",
    "        index = np.random.randint(start_index,end_index)\n",
    "        while(index < end_index) :\n",
    "            if y_test[index] == type :\n",
    "                if type == 0 :\n",
    "                    signal_typeN = X_test[index]\n",
    "                elif type == 1:\n",
    "                    signal_typeS = X_test[index]\n",
    "                elif type == 2:\n",
    "                    signal_typeV = X_test[index]\n",
    "                elif type == 3:\n",
    "                    signal_typeF = X_test[index]\n",
    "                elif type == 4:\n",
    "                    signal_typeQ = X_test[index]\n",
    "                signal_found = True\n",
    "                break    \n",
    "            index += 1"
   ]
  },
  {
   "cell_type": "code",
   "execution_count": 31,
   "metadata": {},
   "outputs": [],
   "source": [
    "np.set_printoptions(formatter={'float_kind': '{: .8f}'.format})\n",
    "\n",
    "text_file = open(\"heartbeats_signal.h\", \"w\")"
   ]
  },
  {
   "cell_type": "code",
   "execution_count": 32,
   "metadata": {},
   "outputs": [
    {
     "name": "stdout",
     "output_type": "stream",
     "text": [
      "label is 0 , prediction is 0\n"
     ]
    },
    {
     "data": {
      "image/png": "[encoded data removed]",
      "text/plain": [
       "<Figure size 432x288 with 1 Axes>"
      ]
     },
     "metadata": {
      "needs_background": "light"
     },
     "output_type": "display_data"
    }
   ],
   "source": [
    "heartbeat_model_quantized.set_tensor(heartbeat_model_quantized_input[0]['index'],  signal_typeN.reshape(1,260))\n",
    "heartbeat_model_quantized.invoke()\n",
    "prediction = heartbeat_model_quantized.get_tensor(heartbeat_model_quantized_output[0]['index']).argmax(-1)[0] \n",
    "\n",
    "print('label is 0 , prediction is ' + str(prediction))\n",
    "plt.plot(signal_typeN)\n",
    "plt.show()\n",
    "\n",
    "ndarray_str = np.array2string(signal_typeN,separator=',')\n",
    "ndarray_str = ndarray_str.replace('[','{')\n",
    "ndarray_str = ndarray_str.replace(']','}')\n",
    "ndarray_str = 'const float signalN[260] = ' + ndarray_str + ';\\n\\n'\n",
    "text_file.write(ndarray_str);"
   ]
  },
  {
   "cell_type": "code",
   "execution_count": 33,
   "metadata": {},
   "outputs": [
    {
     "name": "stdout",
     "output_type": "stream",
     "text": [
      "label is 1 , prediction is 1\n"
     ]
    },
    {
     "data": {
      "image/png": "[encoded data removed]",
      "text/plain": [
       "<Figure size 432x288 with 1 Axes>"
      ]
     },
     "metadata": {
      "needs_background": "light"
     },
     "output_type": "display_data"
    }
   ],
   "source": [
    "heartbeat_model_quantized.set_tensor(heartbeat_model_quantized_input[0]['index'], signal_typeS.reshape(1,260))\n",
    "heartbeat_model_quantized.invoke()\n",
    "prediction = heartbeat_model_quantized.get_tensor(heartbeat_model_quantized_output[0]['index']).argmax(-1)[0] \n",
    "\n",
    "print('label is 1 , prediction is ' + str(prediction))\n",
    "plt.plot(signal_typeS)\n",
    "plt.show()\n",
    "\n",
    "ndarray_str = np.array2string(signal_typeS,separator=',')\n",
    "ndarray_str = ndarray_str.replace('[','{')\n",
    "ndarray_str = ndarray_str.replace(']','}')\n",
    "ndarray_str = 'const float signalS[260] = ' + ndarray_str + ';\\n\\n'\n",
    "text_file.write(ndarray_str);"
   ]
  },
  {
   "cell_type": "code",
   "execution_count": 34,
   "metadata": {},
   "outputs": [
    {
     "name": "stdout",
     "output_type": "stream",
     "text": [
      "label is 2 , prediction is 2\n"
     ]
    },
    {
     "data": {
      "image/png": "[encoded data removed]",
      "text/plain": [
       "<Figure size 432x288 with 1 Axes>"
      ]
     },
     "metadata": {
      "needs_background": "light"
     },
     "output_type": "display_data"
    }
   ],
   "source": [
    "heartbeat_model_quantized.set_tensor(heartbeat_model_quantized_input[0]['index'], signal_typeV.reshape(1,260))\n",
    "heartbeat_model_quantized.invoke()\n",
    "prediction = heartbeat_model_quantized.get_tensor(heartbeat_model_quantized_output[0]['index']).argmax(-1)[0] \n",
    "\n",
    "print('label is 2 , prediction is ' + str(prediction))\n",
    "plt.plot(signal_typeV)\n",
    "plt.show()\n",
    "\n",
    "ndarray_str = np.array2string(signal_typeV,separator=',')\n",
    "ndarray_str = ndarray_str.replace('[','{')\n",
    "ndarray_str = ndarray_str.replace(']','}')\n",
    "ndarray_str = 'const float signalV[260] = ' + ndarray_str + ';\\n\\n'\n",
    "text_file.write(ndarray_str);"
   ]
  },
  {
   "cell_type": "code",
   "execution_count": 35,
   "metadata": {},
   "outputs": [
    {
     "name": "stdout",
     "output_type": "stream",
     "text": [
      "label is 3 , prediction is 3\n"
     ]
    },
    {
     "data": {
      "image/png": "[encoded data removed]",
      "text/plain": [
       "<Figure size 432x288 with 1 Axes>"
      ]
     },
     "metadata": {
      "needs_background": "light"
     },
     "output_type": "display_data"
    }
   ],
   "source": [
    "heartbeat_model_quantized.set_tensor(heartbeat_model_quantized_input[0]['index'], signal_typeF.reshape(1,260))\n",
    "heartbeat_model_quantized.invoke()\n",
    "prediction = heartbeat_model_quantized.get_tensor(heartbeat_model_quantized_output[0]['index']).argmax(-1)[0] \n",
    "\n",
    "print('label is 3 , prediction is ' + str(prediction))\n",
    "plt.plot(signal_typeF)\n",
    "plt.show()\n",
    "\n",
    "ndarray_str = np.array2string(signal_typeF,separator=',')\n",
    "ndarray_str = ndarray_str.replace('[','{')\n",
    "ndarray_str = ndarray_str.replace(']','}')\n",
    "ndarray_str = 'const float signalF[260] = ' + ndarray_str + ';\\n\\n'\n",
    "text_file.write(ndarray_str);"
   ]
  },
  {
   "cell_type": "code",
   "execution_count": 36,
   "metadata": {},
   "outputs": [
    {
     "name": "stdout",
     "output_type": "stream",
     "text": [
      "label is 4 , prediction is 4\n"
     ]
    },
    {
     "data": {
      "image/png": "[encoded data removed]",
      "text/plain": [
       "<Figure size 432x288 with 1 Axes>"
      ]
     },
     "metadata": {
      "needs_background": "light"
     },
     "output_type": "display_data"
    }
   ],
   "source": [
    "heartbeat_model_quantized.set_tensor(heartbeat_model_quantized_input[0]['index'], signal_typeQ.reshape(1,260))\n",
    "heartbeat_model_quantized.invoke()\n",
    "prediction = heartbeat_model_quantized.get_tensor(heartbeat_model_quantized_output[0]['index']).argmax(-1)[0] \n",
    "\n",
    "print('label is 4 , prediction is ' + str(prediction))\n",
    "plt.plot(signal_typeQ)\n",
    "plt.show()\n",
    "\n",
    "ndarray_str = np.array2string(signal_typeQ,separator=',')\n",
    "ndarray_str = ndarray_str.replace('[','{')\n",
    "ndarray_str = ndarray_str.replace(']','}')\n",
    "ndarray_str = 'const float signalQ[260] = ' + ndarray_str + ';\\n\\n'\n",
    "text_file.write(ndarray_str);"
   ]
  },
  {
   "cell_type": "code",
   "execution_count": 37,
   "metadata": {},
   "outputs": [],
   "source": [
    "text_file.close()\n",
    "\n",
    "np.set_printoptions();"
   ]
  }
 ],
 "metadata": {
  "kernelspec": {
   "display_name": "Python 3",
   "language": "python",
   "name": "python3"
  },
  "language_info": {
   "codemirror_mode": {
    "name": "ipython",
    "version": 3
   },
   "file_extension": ".py",
   "mimetype": "text/x-python",
   "name": "python",
   "nbconvert_exporter": "python",
   "pygments_lexer": "ipython3",
   "version": "3.7.7"
  }
 },
 "nbformat": 4,
 "nbformat_minor": 4
}
