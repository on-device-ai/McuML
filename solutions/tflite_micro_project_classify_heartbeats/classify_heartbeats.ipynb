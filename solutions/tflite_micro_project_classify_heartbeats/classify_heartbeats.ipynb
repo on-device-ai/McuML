{
 "cells": [
  {
   "cell_type": "markdown",
   "metadata": {},
   "source": [
    "The complete soruce code of this project is here :  \n",
    "https://github.com/on-device-ai/ClassifyHeartbeats"
   ]
  },
  {
   "cell_type": "markdown",
   "metadata": {},
   "source": [
    "Model create and training's Jupyter notebook is here :  \n",
    "[model/classify_heartbeats_cnn.ipynb](./model/classify_heartbeats_cnn.ipynb)"
   ]
  },
  {
   "cell_type": "markdown",
   "metadata": {},
   "source": [
    "Before opening the model create and training's Jupyter Notebook, please make sure that TensorFlow 2 is installed."
   ]
  },
  {
   "cell_type": "code",
   "execution_count": 1,
   "metadata": {},
   "outputs": [
    {
     "name": "stdout",
     "output_type": "stream",
     "text": [
      "2.0.0\n",
      "[PhysicalDevice(name='/physical_device:GPU:0', device_type='GPU')]\n"
     ]
    }
   ],
   "source": [
    "try:\n",
    "    import tensorflow as tf\n",
    "    print(tf.__version__)\n",
    "    print(tf.config.experimental.list_physical_devices('GPU'))\n",
    "except ImportError:\n",
    "    print('TensorFlow has not been installed')"
   ]
  }
 ],
 "metadata": {
  "kernelspec": {
   "display_name": "Python 3",
   "language": "python",
   "name": "python3"
  },
  "language_info": {
   "codemirror_mode": {
    "name": "ipython",
    "version": 3
   },
   "file_extension": ".py",
   "mimetype": "text/x-python",
   "name": "python",
   "nbconvert_exporter": "python",
   "pygments_lexer": "ipython3",
   "version": "3.7.9"
  }
 },
 "nbformat": 4,
 "nbformat_minor": 4
}
